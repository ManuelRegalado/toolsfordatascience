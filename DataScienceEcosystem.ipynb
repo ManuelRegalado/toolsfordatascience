{
 "cells": [
  {
   "cell_type": "markdown",
   "id": "3bf821d2-9443-4141-add5-1eb4c7fa4111",
   "metadata": {},
   "source": [
    "# Data Science Tools and Ecosystems"
   ]
  },
  {
   "cell_type": "markdown",
   "id": "03f07efb-926e-4b2f-a1a5-f5f375671bbc",
   "metadata": {},
   "source": [
    "In this notebook, Data Science and Ecosystem are summarized."
   ]
  },
  {
   "cell_type": "markdown",
   "id": "87bd4823-1e8a-423c-b677-cacf68a5f3cb",
   "metadata": {},
   "source": [
    "__Objectives__\n",
    "\n",
    "- list popular languages for Data Science\n",
    "- Learned Jupyter Notebook Environment\n",
    "- List commonly used libraries"
   ]
  },
  {
   "cell_type": "markdown",
   "id": "8777ed1d-4d67-484b-92d7-3b9aeff9a8b9",
   "metadata": {},
   "source": [
    " Some of the popular languages that Data Scientists use are:\n",
    "\n",
    "1. Python\n",
    "2. R\n",
    "3. Java\n",
    "4. Julia\n",
    "5. SQL (technically not a traditional programming language but an essential tool)"
   ]
  },
  {
   "cell_type": "markdown",
   "id": "73a3611d-10d5-4999-adde-feb3d941c0c6",
   "metadata": {},
   "source": [
    " Some of the commonly used libraries used by Data Scientists include:\n",
    "\n",
    "1. Pandas\n",
    "2. Matplotlib\n",
    "3. NumPy\n",
    "4. TensorFlow\n",
    "5. PyTorch"
   ]
  },
  {
   "cell_type": "markdown",
   "id": "902dce7b-699f-45d3-88c3-3d99e414505c",
   "metadata": {},
   "source": [
    "|Data Science Tools|\n",
    "|-------------------|\n",
    "|R Studio|\n",
    "|Anaconda|\n",
    "|Jupyter Notebooks|"
   ]
  },
  {
   "cell_type": "markdown",
   "id": "bc056232-13a7-4652-bdd2-ab951ed6acec",
   "metadata": {},
   "source": [
    "### Below are a few examples of evaluating arithmetic expressions in Python"
   ]
  },
  {
   "cell_type": "code",
   "execution_count": 3,
   "id": "f8deebd5-bb7f-462f-9eed-74a3a5dbb366",
   "metadata": {},
   "outputs": [
    {
     "data": {
      "text/plain": [
       "17"
      ]
     },
     "execution_count": 3,
     "metadata": {},
     "output_type": "execute_result"
    }
   ],
   "source": [
    "# This is a simple arithmetic expression to multiply then add integers\n",
    "(3*4)+5"
   ]
  },
  {
   "cell_type": "code",
   "execution_count": 4,
   "id": "6f3f2e60-55d8-41a0-ac0d-3053bb709d43",
   "metadata": {},
   "outputs": [
    {
     "data": {
      "text/plain": [
       "3.3333333333333335"
      ]
     },
     "execution_count": 4,
     "metadata": {},
     "output_type": "execute_result"
    }
   ],
   "source": [
    "#This will convert 200 minutes to hours by dividing by 60\n",
    "200/60"
   ]
  },
  {
   "cell_type": "markdown",
   "id": "0a407a70-918d-4cb6-ac0d-c76c99661d79",
   "metadata": {},
   "source": [
    "## Author\n",
    "Manuel Regalado"
   ]
  },
  {
   "cell_type": "code",
   "execution_count": null,
   "id": "b2749cff-76af-4cab-b469-388866b2ee64",
   "metadata": {},
   "outputs": [],
   "source": []
  }
 ],
 "metadata": {
  "kernelspec": {
   "display_name": "Python 3 (ipykernel)",
   "language": "python",
   "name": "python3"
  },
  "language_info": {
   "codemirror_mode": {
    "name": "ipython",
    "version": 3
   },
   "file_extension": ".py",
   "mimetype": "text/x-python",
   "name": "python",
   "nbconvert_exporter": "python",
   "pygments_lexer": "ipython3",
   "version": "3.11.5"
  }
 },
 "nbformat": 4,
 "nbformat_minor": 5
}
